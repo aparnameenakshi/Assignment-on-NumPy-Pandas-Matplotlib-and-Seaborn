{
  "nbformat": 4,
  "nbformat_minor": 0,
  "metadata": {
    "colab": {
      "provenance": [],
      "toc_visible": true
    },
    "kernelspec": {
      "name": "python3",
      "display_name": "Python 3"
    },
    "language_info": {
      "name": "python"
    }
  },
  "cells": [
    {
      "cell_type": "markdown",
      "source": [
        "Read the dataset to Python environment:"
      ],
      "metadata": {
        "id": "pOVAabDnnoKn"
      }
    },
    {
      "cell_type": "code",
      "execution_count": null,
      "metadata": {
        "id": "_0LFdbgKmIFb"
      },
      "outputs": [],
      "source": [
        "import pandas as pd\n",
        "import matplotlib.pyplot as plt\n",
        "import numpy as np\n",
        "import seaborn as sns"
      ]
    },
    {
      "cell_type": "markdown",
      "source": [
        "Display the columns in the dataset:"
      ],
      "metadata": {
        "id": "CRJgy20PnsME"
      }
    },
    {
      "cell_type": "code",
      "source": [
        "print(iris.columns)"
      ],
      "metadata": {
        "id": "0-_U0XiFnmVc"
      },
      "execution_count": null,
      "outputs": []
    },
    {
      "cell_type": "markdown",
      "source": [
        "Calculate the mean of each column of the dataset:\n"
      ],
      "metadata": {
        "id": "gn41tr8dnzaE"
      }
    },
    {
      "cell_type": "code",
      "source": [
        "# Assuming the data is stored in a list of lists\n",
        "data = [\n",
        "    [5.1, 3.5, 1.4, 0.2, 'Iris-setosa'],\n",
        "    # ... (add the rest of the rows)\n",
        "    [5.9, 3.0, 5.1, 1.8, 'Iris-virginica']\n",
        "]\n",
        "\n",
        "# Extracting numerical data and calculating mean values\n",
        "numerical_data = [row[:-1] for row in data if len(row) == 5 and all(isinstance(val, (int, float)) for val in row[:-1])]\n",
        "column_means = [sum(col) / len(col) for col in zip(*numerical_data)]\n",
        "\n",
        "# Displaying the mean values for each column\n",
        "column_names = ['SL', 'SW', 'PL', 'PW']\n",
        "for name, mean in zip(column_names, column_means):\n",
        "    print(f\"Mean {name}: {mean}\")\n"
      ],
      "metadata": {
        "colab": {
          "base_uri": "https://localhost:8080/"
        },
        "id": "yp_DC0AAq27T",
        "outputId": "3e5725bc-0643-4db1-b2ea-d41a4e3b59d7"
      },
      "execution_count": null,
      "outputs": [
        {
          "output_type": "stream",
          "name": "stdout",
          "text": [
            "Mean SL: 5.5\n",
            "Mean SW: 3.25\n",
            "Mean PL: 3.25\n",
            "Mean PW: 1.0\n"
          ]
        }
      ]
    },
    {
      "cell_type": "markdown",
      "source": [
        "Check for null values in the dataset:"
      ],
      "metadata": {
        "id": "WHUHLEkZn_hj"
      }
    },
    {
      "cell_type": "code",
      "source": [
        "import pandas as pd\n",
        "from io import StringIO\n",
        "\n",
        "# Your dataset\n",
        "data = \"\"\"\n",
        "SL SW PL PW Classification\n",
        "5.1 3.5 1.4 0.2 Iris-setosa\n",
        "4.9 3 1.4 0.2 Iris-setosa\n",
        "... (your complete dataset)\n",
        "\"\"\"\n",
        "\n",
        "# Create a DataFrame\n",
        "df = pd.read_csv(StringIO(data), delimiter=' ')\n",
        "\n",
        "# Check for null values\n",
        "null_values = df.isnull().sum()\n",
        "\n",
        "# Print the null values count for each column\n",
        "print(\"Null values in each column:\")\n",
        "print(null_values)\n"
      ],
      "metadata": {
        "colab": {
          "base_uri": "https://localhost:8080/"
        },
        "id": "usAADrrwqJG8",
        "outputId": "07649a6b-a9fe-4b2e-f35e-014df1a324b0"
      },
      "execution_count": null,
      "outputs": [
        {
          "output_type": "stream",
          "name": "stdout",
          "text": [
            "Null values in each column:\n",
            "SL                0\n",
            "SW                0\n",
            "PL                0\n",
            "PW                0\n",
            "Classification    1\n",
            "dtype: int64\n"
          ]
        }
      ]
    }
  ]
}